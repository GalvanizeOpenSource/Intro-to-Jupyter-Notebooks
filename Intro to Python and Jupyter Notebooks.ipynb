{
 "cells": [
  {
   "cell_type": "markdown",
   "metadata": {},
   "source": [
    "# Austin Data Science: Intro to Python\n",
    "\n",
    "### Objectives:\n",
    "\n",
    "By the end of this meetup, you'll be able to:\n",
    "\n",
    "- install Anaconda\n",
    "- launch, run, and modify a Jupyter notebook\n",
    "- use Python and Pandas to analyse a dataset of Hotel Receipts\n",
    "\n",
    "### Outline:\n",
    "\n",
    "- __What is Data Science?__ (slide deck)\n",
    "- __Intro to Python:__ (live demo)\n",
    "    - use the Python shell\n",
    "    - write a Python script\n",
    "    - use Jupyter\n",
    "- __Lab Time:__ Work through this Jupyter Notebook\n",
    "    - introduce the dataset: \"Hotel Occupancy Tax Receipts\"\n",
    "    - encourage pairing, and begin!\n",
    "- __Wrap-up:__ (if time permits)\n",
    "    - Did you find anything cool or interesting?\n",
    "    - What are some shortcomings of this dataset?"
   ]
  },
  {
   "cell_type": "markdown",
   "metadata": {},
   "source": [
    "# Possible Goals\n",
    "\n",
    "This document will get part-way (more-or-less) to each of the following goals:\n",
    "\n",
    "1. Inform an investor where he should build his next hotel (a first-pass market research effort).\n",
    "\n",
    "2. Hilton has hired you to do a SWOT analysis for their hotels in Texas.\n",
    "\n",
    "3. Identify best months for hotels in San Antonio to offer sales and promotions to drive profit."
   ]
  },
  {
   "cell_type": "markdown",
   "metadata": {},
   "source": [
    "# Instructions\n",
    "\n",
    "THE FOLLOWING IS YOUR GUIDE DURING _LAB TIME_.\n",
    "\n",
    "For all of the following, know that we are here to help! Ask us for help if you need it. :)\n",
    "\n",
    "__Prep your computer:__\n",
    "\n",
    "1. Install Anaconda (if you haven't already). See: https://www.continuum.io/downloads\n",
    "1. Download our starter code:\n",
    "    1. Go to https://github.com/acu192/notebooks/\n",
    "    2. Click \"Download ZIP\".\n",
    "    3. Save and unzip the file (and take note of where you saved it).\n",
    "\n",
    "__Load our starter code using Jupyter:__\n",
    "\n",
    "1. Launch Jupyter. There are two ways to do this:\n",
    "    1. If you're confortable in the shell, run the command `jupyter notebook`\n",
    "    2. Otherwise, use `Anaconda Navigator` to launch Jupyter.\n",
    "2. Using the Jupyter window that opens in your browser, navigate to where you saved & unzipped the starter code.\n",
    "3. Click on THIS notebook to open it. You should now see this notebook on your own computer screen!\n",
    "\n",
    "__Begin Programming!__\n",
    "\n",
    "1. Read every English sentence, and run every cell of python code.\n",
    "2. The world is your oyster--if you want to modify the code, DO IT!\n",
    "3. When you reach the end, write some extra code to answer the one of the \"Possible Goals\" in the section above."
   ]
  },
  {
   "cell_type": "markdown",
   "metadata": {},
   "source": [
    "# Import the libraries we'll need.\n",
    "\n",
    "In python, you use the `import` statement to load libraries into your script."
   ]
  },
  {
   "cell_type": "code",
   "execution_count": null,
   "metadata": {
    "collapsed": false
   },
   "outputs": [],
   "source": [
    "# matplotlib is used for...you guessed it: plotting!\n",
    "import matplotlib.pyplot as plt\n",
    "\n",
    "# Pandas is the \"Python Data Analysis Library\". We use it for loading data from disk and\n",
    "# for manipulating and printing data.\n",
    "import pandas as pd\n",
    "from pandas.tools.plotting import scatter_matrix\n",
    "\n",
    "# This next line is a Jupyter directive. It tells Jupyter that we want our plots to show\n",
    "# up right below the code that creates them.\n",
    "%pylab inline"
   ]
  },
  {
   "cell_type": "markdown",
   "metadata": {},
   "source": [
    "Pandas by default will not print every column in our data if there are A LOT of columns. For this notebook, we would prefer that Pandas print all the columns no matter what, so let's tell Pandas our wishes:"
   ]
  },
  {
   "cell_type": "code",
   "execution_count": null,
   "metadata": {
    "collapsed": false
   },
   "outputs": [],
   "source": [
    "pd.set_option('display.max_columns', None)"
   ]
  },
  {
   "cell_type": "markdown",
   "metadata": {},
   "source": [
    "# Let's read some data!"
   ]
  },
  {
   "cell_type": "code",
   "execution_count": null,
   "metadata": {
    "collapsed": false
   },
   "outputs": [],
   "source": [
    "raw_dataframe = pd.read_csv(\"data/texas_open_data/Hotel_Occupancy_Tax_Receipts__Monthly.csv\")"
   ]
  },
  {
   "cell_type": "markdown",
   "metadata": {},
   "source": [
    "### Woo! We have data. Now let's look at it!"
   ]
  },
  {
   "cell_type": "markdown",
   "metadata": {},
   "source": [
    "Pandas makes it easy to peek into your data and see what you have. The first step in any data project is to get to know your data.\n",
    "\n",
    "Let's start by looking at the first 3 rows of data. That's easy to do using the `head()` method on our DataFrame:"
   ]
  },
  {
   "cell_type": "code",
   "execution_count": null,
   "metadata": {
    "collapsed": false,
    "scrolled": false
   },
   "outputs": [],
   "source": [
    "raw_dataframe.head(3)"
   ]
  },
  {
   "cell_type": "markdown",
   "metadata": {},
   "source": [
    "Looks good at first glance. We'll dig in more later, but first let's ask Pandas to give us info about the datatype of each columns:"
   ]
  },
  {
   "cell_type": "code",
   "execution_count": null,
   "metadata": {
    "collapsed": false
   },
   "outputs": [],
   "source": [
    "raw_dataframe.info()"
   ]
  },
  {
   "cell_type": "markdown",
   "metadata": {},
   "source": [
    "Most of the stuff above looks correct:\n",
    "- _Month_ is encoded as an integer, so pandas is correct in identifying the _Month_ column as an integer.\n",
    "- _Name_, _Address_, _City_, and _State_ are correctly identified as strings (that's what pandas means when it says something is an object).\n",
    "- _County_ is also encoded as an integer, so pandas is correct again.\n",
    "- ... etc...\n",
    "\n",
    "There are a few things above that don't look right:\n",
    "- Why is _Taxpayer Zip_ a floating point number?\n",
    "- Why is _Location County_ a floating point number?\n",
    "- _Location Tot Room Receipts_ has a dollar sign in it which is why pandas thinks it's a string instead of a number.\n",
    "- Ditto for _Location Taxable Receipts_."
   ]
  },
  {
   "cell_type": "markdown",
   "metadata": {},
   "source": [
    "# Let's clean our data."
   ]
  },
  {
   "cell_type": "markdown",
   "metadata": {},
   "source": [
    "We idenified four issues above, so let's fix each one."
   ]
  },
  {
   "cell_type": "code",
   "execution_count": null,
   "metadata": {
    "collapsed": false
   },
   "outputs": [],
   "source": [
    "# Let's work in a new DataFrame so that we don't loose our original data.\n",
    "# (It's often useful to have the original data on-hand.)\n",
    "dataframe = raw_dataframe.copy()\n",
    "\n",
    "# Convert _Taxpayer Zip_ to an integer.\n",
    "dataframe['Taxpayer Zip'] = dataframe['Taxpayer Zip'].fillna(0.0).astype(int)\n",
    "\n",
    "# Convert _Location County_ to an integer.\n",
    "dataframe['Location County'] = dataframe['Location County'].fillna(0.0).astype(int)\n",
    "\n",
    "# Convert _Location Tot Room Receipts_ to a float.\n",
    "dataframe['Location Tot Room Receipts'] = \\\n",
    "    dataframe['Location Tot Room Receipts'] \\\n",
    "        .replace('[\\$,]', '', regex=True).astype(float, inplace=True)\n",
    "\n",
    "# Convert _Location Tot Room Receipts_ to a float.\n",
    "dataframe['Location Taxable Receipts'] = \\\n",
    "    dataframe['Location Taxable Receipts'] \\\n",
    "        .replace('[\\$,]', '', regex=True).astype(float, inplace=True)"
   ]
  },
  {
   "cell_type": "markdown",
   "metadata": {},
   "source": [
    "Again, let's have pandas give us info about what it thinks the datatype of each column is. It should all look good now:"
   ]
  },
  {
   "cell_type": "code",
   "execution_count": null,
   "metadata": {
    "collapsed": false
   },
   "outputs": [],
   "source": [
    "dataframe.info()"
   ]
  },
  {
   "cell_type": "markdown",
   "metadata": {},
   "source": [
    "Woot! This time the datatypes look correct. So, datatypes are good... next we'll look at the content of our data."
   ]
  },
  {
   "cell_type": "markdown",
   "metadata": {},
   "source": [
    "# Exploratory Data Analysis (EDA)"
   ]
  },
  {
   "cell_type": "markdown",
   "metadata": {},
   "source": [
    "### Sanity Check\n",
    "\n",
    "Let's look at the head again. It should be the same as before, but we'll look again to remind ourselves what it looks like."
   ]
  },
  {
   "cell_type": "code",
   "execution_count": null,
   "metadata": {
    "collapsed": false
   },
   "outputs": [],
   "source": [
    "dataframe.head(3)"
   ]
  },
  {
   "cell_type": "markdown",
   "metadata": {},
   "source": [
    "I'm noticing something that might be wrong. We'll have to keep this in mind as we move forward: Why is 'Location Room Capacity' equal 1 for these rows? Are these hotels with just one room each? Maybe... we'll keep this in mind.\n",
    "\n",
    "For now let's get an idea about the distribution of the 'Location Room Capacity' column. We'll create a histogram over this column."
   ]
  },
  {
   "cell_type": "code",
   "execution_count": null,
   "metadata": {
    "collapsed": false
   },
   "outputs": [],
   "source": [
    "dataframe['Location Room Capacity'].hist(bins=100)"
   ]
  },
  {
   "cell_type": "markdown",
   "metadata": {},
   "source": [
    "... well... that wasn't very informative! That's okay, let's try again. This time we'll only look at rows where the 'Location Room Capacity' is less than 50; this will make us sort-of \"zoom in\" on the part that's most interesting:"
   ]
  },
  {
   "cell_type": "code",
   "execution_count": null,
   "metadata": {
    "collapsed": false
   },
   "outputs": [],
   "source": [
    "rows_of_interest = (dataframe['Location Room Capacity'] < 50)\n",
    "dataframe[rows_of_interest]['Location Room Capacity'].hist(bins=100)"
   ]
  },
  {
   "cell_type": "markdown",
   "metadata": {},
   "source": [
    "Humm... is that spike at 'Location Room Capacity' == 1? Let's find out."
   ]
  },
  {
   "cell_type": "code",
   "execution_count": null,
   "metadata": {
    "collapsed": false
   },
   "outputs": [],
   "source": [
    "(dataframe['Location Room Capacity'] == 1).sum()"
   ]
  },
  {
   "cell_type": "markdown",
   "metadata": {},
   "source": [
    "... yep, that spike is at 'Location Room Capacity' == 1.\n",
    "\n",
    "There seems to be way too many hotels with 'Location Room Capacity' == 1. It's possible that whoever created this dataset is filling all \"unknown values\" with the value 1. We might want to remove all the rows where 'Location Room Capacity' == 1. If you decide to remove those rows, uncomment the code in the cell below and run it."
   ]
  },
  {
   "cell_type": "code",
   "execution_count": null,
   "metadata": {
    "collapsed": false
   },
   "outputs": [],
   "source": [
    "# There are too many rows with 'Location Room Capacity' == 1 to impute the values.\n",
    "# So... we'll just drop those rows.\n",
    "\n",
    "# UNCOMMENT THE THREE LINES BELOW IF YOU WANT TO DROP THESE BAD ROWS.\n",
    "\n",
    "#print(\"Orig size:\", dataframe.shape)\n",
    "#dataframe = dataframe[dataframe['Location Room Capacity'] > 1]\n",
    "#print(\"New size:\", dataframe.shape)"
   ]
  },
  {
   "cell_type": "markdown",
   "metadata": {},
   "source": [
    "### Visualization (histograms and scatterplots)"
   ]
  },
  {
   "cell_type": "markdown",
   "metadata": {},
   "source": [
    "#### Number of States Represented\n",
    "\n",
    "Let's see what states are represented in this data. (It _should_ only be Texas, but let's check.)"
   ]
  },
  {
   "cell_type": "code",
   "execution_count": null,
   "metadata": {
    "collapsed": false
   },
   "outputs": [],
   "source": [
    "agg = dataframe.groupby('Location State').apply(len)\n",
    "agg.plot(kind='bar').set_ylabel('# records')"
   ]
  },
  {
   "cell_type": "markdown",
   "metadata": {},
   "source": [
    "... We have some non-Texas stuff in here! Let's get a textual printout for more detail."
   ]
  },
  {
   "cell_type": "code",
   "execution_count": null,
   "metadata": {
    "collapsed": false
   },
   "outputs": [],
   "source": [
    "dataframe['Location State'].value_counts()"
   ]
  },
  {
   "cell_type": "markdown",
   "metadata": {},
   "source": [
    "... Indiana... what's up with that? Let's keep only the Texas rows."
   ]
  },
  {
   "cell_type": "code",
   "execution_count": null,
   "metadata": {
    "collapsed": false
   },
   "outputs": [],
   "source": [
    "texas_df = dataframe[dataframe['Location State'] == 'TX']"
   ]
  },
  {
   "cell_type": "markdown",
   "metadata": {},
   "source": [
    "#### Number of Cities Represented\n",
    "\n",
    "How many unique cities are represented?"
   ]
  },
  {
   "cell_type": "code",
   "execution_count": null,
   "metadata": {
    "collapsed": false
   },
   "outputs": [],
   "source": [
    "# How many unique cities are in our dataset?\n",
    "texas_df['Location City'].describe()"
   ]
  },
  {
   "cell_type": "markdown",
   "metadata": {},
   "source": [
    "#### Histogram: Number of unique hotels in each city"
   ]
  },
  {
   "cell_type": "code",
   "execution_count": null,
   "metadata": {
    "collapsed": false
   },
   "outputs": [],
   "source": [
    "# Count the number of unique hotels in each city:\n",
    "city_counts = texas_df.groupby('Location City')['Taxpayer Number'].nunique()\n",
    "city_counts.sort_values(axis=0, ascending=False, inplace=True)\n",
    "top_cities = city_counts > 50\n",
    "city_counts[top_cities].plot(kind='bar').set_ylabel('# unique hotels')"
   ]
  },
  {
   "cell_type": "markdown",
   "metadata": {},
   "source": [
    "#### Exploring the numeric columns"
   ]
  },
  {
   "cell_type": "code",
   "execution_count": null,
   "metadata": {
    "collapsed": true
   },
   "outputs": [],
   "source": [
    "# Now let's focus on the numeric columns.\n",
    "numeric_columns = ['Month', 'Year', 'Outlet Number', 'Location Room Capacity',\n",
    "                   'Location Tot Room Receipts', 'Location Taxable Receipts']"
   ]
  },
  {
   "cell_type": "code",
   "execution_count": null,
   "metadata": {
    "collapsed": false,
    "scrolled": false
   },
   "outputs": [],
   "source": [
    "# Let's look at some stats for our numeric columns:\n",
    "texas_df[numeric_columns].describe()"
   ]
  },
  {
   "cell_type": "markdown",
   "metadata": {},
   "source": [
    "#### Pairplot over a few numeric columns-of-interest\n",
    "\n",
    "For this dataset, this turns out to not be very interesting, but it's good to always look at this anyway!\n",
    "\n",
    "A _pairplot_ (also known as a _scatter matrix_) will plot every column vs every other column. It's a quick way to see which pairs of columns are correlated (or not)."
   ]
  },
  {
   "cell_type": "code",
   "execution_count": null,
   "metadata": {
    "collapsed": false
   },
   "outputs": [],
   "source": [
    "cols_of_interest = ['Location Room Capacity', 'Location Tot Room Receipts',\n",
    "                    'Location Taxable Receipts']\n",
    "scatter_matrix(texas_df[cols_of_interest], figsize=(10, 8))"
   ]
  },
  {
   "cell_type": "markdown",
   "metadata": {},
   "source": [
    "#### Compare two cities: Scatterplot 'Location Room Capacity' vs 'Location Tot Room Receipts' for each city\n",
    "\n",
    "Does it seem that Austin and El Paso are different, or are they basically the same? (We'll explore this more further later on, but for now let's just look at the pretty picture and make our best guess.)"
   ]
  },
  {
   "cell_type": "code",
   "execution_count": null,
   "metadata": {
    "collapsed": false
   },
   "outputs": [],
   "source": [
    "cities_of_interest = ['AUSTIN', 'EL PASO']\n",
    "\n",
    "# Scatter plot by city.\n",
    "for city in cities_of_interest:\n",
    "    city_mask = (texas_df['Location City'] == city)\n",
    "    size_mask = (texas_df['Location Room Capacity'] < 220)\n",
    "    plt.plot(texas_df[city_mask][size_mask]['Location Room Capacity'],\n",
    "             texas_df[city_mask][size_mask]['Location Tot Room Receipts'],\n",
    "             linestyle='',\n",
    "             marker='o',\n",
    "             alpha=1,\n",
    "             label=city)\n",
    "plt.xlabel('Location Room Capacity')\n",
    "plt.ylabel('Location Tot Room Receipts')\n",
    "plt.legend(numpoints=1)"
   ]
  },
  {
   "cell_type": "markdown",
   "metadata": {},
   "source": [
    "Humm... I don't know about you, but I didn't expect this! There are two things here that surprised me:\n",
    "1. The trend-line is not very strong. There is a general upward trend, but it is riddled with noise.\n",
    "2. These cities do not differ much! Average income per room is roughly the same in each city.\n",
    "\n",
    "The takeaway (this is usually the takeaway), is two-fold:\n",
    "1. Your data is probably not as clean asd pretty as you'd like, and\n",
    "2. Often your assumptions about what you will find are just plain wrong.\n",
    "\n",
    "... Seeing this now changes the direction I was planning to head. That's why we do EDA!\n",
    "\n",
    "Also: Imagine this senario: Your investor friend was told that Austin is in desparate need of hotels--that there is more demand than supply and that it would be a great time to build a hotel in Austin because you could get amazing ROI. Your investor friend comes to you to varify this. We're not finished with our analysis yet, but it's not looking good for that theory so far."
   ]
  },
  {
   "cell_type": "markdown",
   "metadata": {},
   "source": [
    "#### Histogram of every numeric column\n",
    "\n",
    "This is another graph that you should make for every dataset you get. It is often useful. For this dataset, it's less useful though. :("
   ]
  },
  {
   "cell_type": "code",
   "execution_count": null,
   "metadata": {
    "collapsed": false
   },
   "outputs": [],
   "source": [
    "# Here's another one-liner:\n",
    "texas_df[numeric_columns].hist(bins=10, figsize=(10, 6))\n",
    "# ... although in this case this isn't helpful... :("
   ]
  },
  {
   "cell_type": "markdown",
   "metadata": {},
   "source": [
    "#### Years and Months, what do we have of each?"
   ]
  },
  {
   "cell_type": "markdown",
   "metadata": {},
   "source": [
    "We only have one year (2015), see:"
   ]
  },
  {
   "cell_type": "code",
   "execution_count": null,
   "metadata": {
    "collapsed": false
   },
   "outputs": [],
   "source": [
    "texas_df['Year'].value_counts()"
   ]
  },
  {
   "cell_type": "markdown",
   "metadata": {},
   "source": [
    "We only have two months (July and August), see:"
   ]
  },
  {
   "cell_type": "code",
   "execution_count": null,
   "metadata": {
    "collapsed": false
   },
   "outputs": [],
   "source": [
    "# Looks like these are all from 2015 and include only July and August. Let's see how many\n",
    "# of each month we have.\n",
    "texas_df['Month'].value_counts()"
   ]
  },
  {
   "cell_type": "markdown",
   "metadata": {},
   "source": [
    "#### Histogram: Avg 'room capacity' per city (top cities only)"
   ]
  },
  {
   "cell_type": "code",
   "execution_count": null,
   "metadata": {
    "collapsed": false
   },
   "outputs": [],
   "source": [
    "city_counts = texas_df.groupby('Location City')['Location Room Capacity'].mean()\n",
    "city_counts.sort_values(axis=0, ascending=False, inplace=True)\n",
    "city_counts[city_counts>110].plot(kind='bar', figsize=(10, 4)).set_ylabel('avg room capacity')"
   ]
  },
  {
   "cell_type": "markdown",
   "metadata": {},
   "source": [
    "#### Histogram: Avg income per room per night per city (top cities only)"
   ]
  },
  {
   "cell_type": "code",
   "execution_count": null,
   "metadata": {
    "collapsed": false
   },
   "outputs": [],
   "source": [
    "num_days = 31 + 31  # <-- both July and August each have 31 days in them.\n",
    "\n",
    "cities = texas_df.groupby('Location City')\n",
    "city_receipts = cities['Location Tot Room Receipts'].sum()\n",
    "city_rooms = cities['Location Room Capacity'].sum()\n",
    "city_income_per_room_per_night = city_receipts / city_rooms / num_days\n",
    "city_income_per_room_per_night.sort_values(axis=0, ascending=False, inplace=True)\n",
    "most_profitable_cities = city_income_per_room_per_night > 100\n",
    "city_income_per_room_per_night[most_profitable_cities].plot(kind='bar', figsize=(10, 4)) \\\n",
    "    .set_ylabel('avg income per room per night')"
   ]
  },
  {
   "cell_type": "markdown",
   "metadata": {},
   "source": [
    "#### RED ALERT: What's up with SOUTHLAKE?"
   ]
  },
  {
   "cell_type": "code",
   "execution_count": null,
   "metadata": {
    "collapsed": false
   },
   "outputs": [],
   "source": [
    "# What's up with SOUTHLAKE?\n",
    "texas_df[texas_df['Location City'] == 'SOUTHLAKE']"
   ]
  },
  {
   "cell_type": "markdown",
   "metadata": {},
   "source": [
    "Our data says that this hotel in Southlake has only one room. Let's look into whether or not that's true. Here's the website for that hotel in Southlake:\n",
    "http://www3.hilton.com/en/hotels/texas/hilton-dallas-southlake-town-square-DFWSLHF/index.html\n",
    "\n",
    "Okay... that hotel above definitely has more than one room! Remember how we concidered dropping rows where 'Location Room Capacity' == 1? Well, I think it's time to pull the trigger on that decision. \n",
    "\n",
    "__HINT: THERE IS CODE IN ONE OF THE CELLS ABOVE THAT DOES THIS, BUT IT IS COMMENTED OUT--ALL YOU NEED TO DO IS UNCOMMENT THAT CODE AND RUN ALL THE CELLS FROM THERE TO HERE AGAIN. NOTICE WHAT CHANGES AS YOU RE-RUN EACH CELL.__"
   ]
  },
  {
   "cell_type": "markdown",
   "metadata": {},
   "source": [
    "#### Is there much of a difference between the month of July and the month of August?"
   ]
  },
  {
   "cell_type": "code",
   "execution_count": null,
   "metadata": {
    "collapsed": false
   },
   "outputs": [],
   "source": [
    "# How does the specific month affect the avg income per room per night?\n",
    "\n",
    "cities = texas_df.groupby(['Location City', 'Month'])\n",
    "city_receipts = cities['Location Tot Room Receipts'].sum()\n",
    "city_rooms = cities['Location Room Capacity'].sum()\n",
    "city_income_per_room_per_night = city_receipts / city_rooms / num_days\n",
    "city_income_per_room_per_night = city_income_per_room_per_night.unstack()\n",
    "city_income_per_room_per_night['avg_7_8'] = (city_income_per_room_per_night[7] + \\\n",
    "                                             city_income_per_room_per_night[8]) / 2\n",
    "city_income_per_room_per_night.sort_values(by='avg_7_8', ascending=False, inplace=True)\n",
    "most_profitable_cities = city_income_per_room_per_night['avg_7_8'] > 100\n",
    "city_income_per_room_per_night[most_profitable_cities].plot(kind='bar', figsize=(10, 4)) \\\n",
    "    .set_ylabel('avg income per room per night')"
   ]
  },
  {
   "cell_type": "markdown",
   "metadata": {},
   "source": [
    "Haha. Buda had a great month of July! (Or it was a data entry error.) It does seem that in general, the month of July was better for hotels than the month of August. The graph above only shows the top cities, let's look at ALL cities and compare the July vs Auguest."
   ]
  },
  {
   "cell_type": "code",
   "execution_count": null,
   "metadata": {
    "collapsed": false
   },
   "outputs": [],
   "source": [
    "# Seems July (7) was a better month for the top cities than August (8). Let's see if this\n",
    "# was overall true for the entire dataset.\n",
    "print('July Avg:', city_income_per_room_per_night[7].mean())\n",
    "print('Aug Avg: ', city_income_per_room_per_night[8].mean())"
   ]
  },
  {
   "cell_type": "code",
   "execution_count": null,
   "metadata": {
    "collapsed": true
   },
   "outputs": [],
   "source": []
  }
 ],
 "metadata": {
  "kernelspec": {
   "display_name": "Python 2",
   "language": "python",
   "name": "python2"
  },
  "language_info": {
   "codemirror_mode": {
    "name": "ipython",
    "version": 2
   },
   "file_extension": ".py",
   "mimetype": "text/x-python",
   "name": "python",
   "nbconvert_exporter": "python",
   "pygments_lexer": "ipython2",
   "version": "2.7.11"
  }
 },
 "nbformat": 4,
 "nbformat_minor": 0
}
